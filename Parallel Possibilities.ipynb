{
 "cells": [
  {
   "cell_type": "markdown",
   "metadata": {},
   "source": [
    "# Setup"
   ]
  },
  {
   "cell_type": "code",
   "execution_count": 1,
   "metadata": {
    "collapsed": true
   },
   "outputs": [],
   "source": [
    "import numpy as np\n",
    "from time import time\n",
    "import matplotlib.pyplot as plt\n",
    "import seaborn as sns\n",
    "%matplotlib inline"
   ]
  },
  {
   "cell_type": "code",
   "execution_count": 2,
   "metadata": {
    "collapsed": true
   },
   "outputs": [],
   "source": [
    "def calc_pi(darts_in_circle, total_darts):\n",
    "    \"\"\"\n",
    "    We can calculate an approximate numerical value for pi using the formula for\n",
    "    the area of a circle (which defines pi). A = pi * r**2. Here, r=0.5 and the\n",
    "    area of the circle can be approximated by the ratio of the number of darts\n",
    "    that fall inside the circle over the total number of darts thrown. Thus we\n",
    "    have pi = 4 * Area.\n",
    "    \"\"\"\n",
    "    return 4 * darts_in_circle / float(total_darts)"
   ]
  },
  {
   "cell_type": "code",
   "execution_count": 3,
   "metadata": {
    "collapsed": true
   },
   "outputs": [],
   "source": [
    "def reporter(pi_approx, n_darts, x_time, x_type):\n",
    "    \"\"\"\n",
    "    Print out some summary info about the run. Execution time should increase\n",
    "    with increasing number of darts. Darts thrown per second should stay\n",
    "    relativelly constant and is sort of a measure of the speed of the processor\n",
    "    (although is is highly dependent on the efficiencies of the various operators\n",
    "    and functions involved).\n",
    "    \"\"\"\n",
    "    print(\"Pi Approximation:\", pi_approx)\n",
    "    print(\"Number of Darts:\", n_darts)\n",
    "    print(\"Execution Time (s):\", x_time)\n",
    "    dps = n_darts / float(x_time)\n",
    "    print(\"Darts Thrown per Second:\", dps)\n",
    "    \n",
    "    report_dict ={'pi_approx': pi_approx,\n",
    "                  'n_darts': n_darts,\n",
    "                  'x_time': x_time,\n",
    "                  'dps': dps,\n",
    "                  'x_type': x_type}\n",
    "    \n",
    "    return report_dict"
   ]
  },
  {
   "cell_type": "code",
   "execution_count": 36,
   "metadata": {
    "collapsed": false
   },
   "outputs": [],
   "source": [
    "def dart_thrower(foo):\n",
    "    import numpy as np\n",
    "    x, y = np.random.uniform(0, 1), np.random.uniform(0, 1)\n",
    "    if np.sqrt((x - 0.5)**2 + (y - 0.5)**2) <= 0.5:\n",
    "        number_of_darts_in_circle = 1\n",
    "    else:\n",
    "        number_of_darts_in_circle = 0\n",
    "    return number_of_darts_in_circle"
   ]
  },
  {
   "cell_type": "markdown",
   "metadata": {},
   "source": [
    "# Initial Comparison"
   ]
  },
  {
   "cell_type": "code",
   "execution_count": 6,
   "metadata": {
    "collapsed": true
   },
   "outputs": [],
   "source": [
    "# Define the total number of darts we'll throw\n",
    "number_of_darts = 1000000"
   ]
  },
  {
   "cell_type": "markdown",
   "metadata": {},
   "source": [
    "## Serial Execution"
   ]
  },
  {
   "cell_type": "code",
   "execution_count": 7,
   "metadata": {
    "collapsed": false
   },
   "outputs": [],
   "source": [
    "def run_serial(n_darts):\n",
    "    n_darts = int(n_darts)\n",
    "    # Define a variable to store the number of darts that fall inside the circle.\n",
    "    number_of_darts_in_circle = 0\n",
    "\n",
    "    # We will use time() to record the execution time of the loop that runs the\n",
    "    # dart throwing simulation.\n",
    "    start_time = time()\n",
    "\n",
    "    # This loop simulates the dart throwing. For each dart, find a random position\n",
    "    # in the unit square for it to fall. Test if it falls within the circle by\n",
    "    # calculating the distance from the origin (0.5, 0.5) to the dart. Darts that\n",
    "    # fall within 0.5 of the origin are within the circle.\n",
    "    for n in range(n_darts):\n",
    "        x, y = np.random.uniform(0, 1), np.random.uniform(0, 1)\n",
    "        if np.sqrt((x - 0.5)**2 + (y - 0.5)**2) <= 0.5:\n",
    "            number_of_darts_in_circle += 1\n",
    "\n",
    "    # Record the time after the conclusion of the loop.\n",
    "    end_time = time()\n",
    "    # The total time required to run the loop is the difference.\n",
    "    execution_time = end_time - start_time\n",
    "\n",
    "    # Estimate pi.\n",
    "    pi_approx = calc_pi(number_of_darts_in_circle, n_darts)\n",
    "\n",
    "    # Print out some summary info about the run.\n",
    "    report = reporter(pi_approx, n_darts, execution_time, 'serial')\n",
    "    \n",
    "    return report"
   ]
  },
  {
   "cell_type": "code",
   "execution_count": 8,
   "metadata": {
    "collapsed": false
   },
   "outputs": [
    {
     "name": "stdout",
     "output_type": "stream",
     "text": [
      "Pi Approximation: 3.140752\n",
      "Number of Darts: 1000000\n",
      "Execution Time (s): 2.201411008834839\n",
      "Darts Thrown per Second: 454254.11065300304\n"
     ]
    }
   ],
   "source": [
    "serial_report = run_serial(number_of_darts)"
   ]
  },
  {
   "cell_type": "markdown",
   "metadata": {},
   "source": [
    "## Parallel Excution (using `multiprocessing`)"
   ]
  },
  {
   "cell_type": "code",
   "execution_count": 9,
   "metadata": {
    "collapsed": false,
    "scrolled": true
   },
   "outputs": [],
   "source": [
    "def run_multiproc(n_darts):\n",
    "    n_darts = int(n_darts)\n",
    "    # Spin up a Pool\n",
    "    from multiprocessing import Pool \n",
    "    pool = Pool(processes=4)\n",
    "\n",
    "    # We will use time() to record the execution time of the dart throwing simulation.\n",
    "    start_time = time()\n",
    "\n",
    "    # Run the simulation.\n",
    "    res = pool.map(dart_thrower, range(n_darts))\n",
    "    number_of_darts_in_circle = sum(res)\n",
    "\n",
    "    # Record the time after the simulation has run.\n",
    "    end_time = time()\n",
    "    # The total time required to run the simulation is the difference.\n",
    "    execution_time = end_time - start_time\n",
    "\n",
    "    # Estimate pi.\n",
    "    pi_approx = calc_pi(number_of_darts_in_circle, n_darts)\n",
    "\n",
    "    # Print out some summary info about the run.\n",
    "    report = reporter(pi_approx, n_darts, execution_time, 'multiproc')\n",
    "\n",
    "    # Close the pool.\n",
    "    pool.close()\n",
    "    pool.terminate()\n",
    "    del pool\n",
    "    \n",
    "    return report"
   ]
  },
  {
   "cell_type": "code",
   "execution_count": 10,
   "metadata": {
    "collapsed": false
   },
   "outputs": [
    {
     "name": "stdout",
     "output_type": "stream",
     "text": [
      "Pi Approximation: 3.145152\n",
      "Number of Darts: 1000000\n",
      "Execution Time (s): 1.7113430500030518\n",
      "Darts Thrown per Second: 584336.3783773317\n"
     ]
    }
   ],
   "source": [
    "multiproc_report = run_multiproc(number_of_darts)"
   ]
  },
  {
   "cell_type": "markdown",
   "metadata": {},
   "source": [
    "## Parallel Execution (using `dask.bag`)"
   ]
  },
  {
   "cell_type": "code",
   "execution_count": 18,
   "metadata": {
    "collapsed": false,
    "scrolled": true
   },
   "outputs": [],
   "source": [
    "def run_dask(n_darts):\n",
    "    n_darts = int(n_darts)\n",
    "    \n",
    "    import dask.bag as db\n",
    "    \n",
    "    # Initialize the dask bag.\n",
    "    throws = db.from_sequence(range(n_darts))\n",
    "\n",
    "    # We will use time() to record the execution time of the dart throwing simulation.\n",
    "    start_time = time()\n",
    "\n",
    "    # Run the simulation.\n",
    "    res = throws.map(dart_thrower).compute()\n",
    "    number_of_darts_in_circle = sum(res)\n",
    "\n",
    "    # Record the time after the simulation has run.\n",
    "    end_time = time()\n",
    "    # The total time required to run the simulation is the difference.\n",
    "    execution_time = end_time - start_time\n",
    "\n",
    "    # Estimate pi.\n",
    "    pi_approx = calc_pi(number_of_darts_in_circle, n_darts)\n",
    "\n",
    "    # Print out some summary info about the run.\n",
    "    report = reporter(pi_approx, n_darts, execution_time, 'dask')\n",
    "    \n",
    "    return report"
   ]
  },
  {
   "cell_type": "code",
   "execution_count": 19,
   "metadata": {
    "collapsed": false,
    "scrolled": true
   },
   "outputs": [
    {
     "name": "stdout",
     "output_type": "stream",
     "text": [
      "Pi Approximation: 3.145472\n",
      "Number of Darts: 1000000\n",
      "Execution Time (s): 6.859676837921143\n",
      "Darts Thrown per Second: 145779.46215656635\n"
     ]
    }
   ],
   "source": [
    "dask_report = run_dask(number_of_darts)"
   ]
  },
  {
   "cell_type": "markdown",
   "metadata": {},
   "source": [
    "## Slower Options"
   ]
  },
  {
   "cell_type": "code",
   "execution_count": 26,
   "metadata": {
    "collapsed": true
   },
   "outputs": [],
   "source": [
    "volleys = np.linspace(10, 10000000)"
   ]
  },
  {
   "cell_type": "markdown",
   "metadata": {},
   "source": [
    "### `dask.distributed`"
   ]
  },
  {
   "cell_type": "code",
   "execution_count": 13,
   "metadata": {
    "collapsed": true
   },
   "outputs": [],
   "source": [
    "from dask.distributed import Executor\n",
    "e = Executor(set_as_default=True)"
   ]
  },
  {
   "cell_type": "code",
   "execution_count": 17,
   "metadata": {
    "collapsed": false,
    "scrolled": true
   },
   "outputs": [
    {
     "name": "stdout",
     "output_type": "stream",
     "text": [
      "CPU times: user 34.9 s, sys: 1.43 s, total: 36.3 s\n",
      "Wall time: 47.8 s\n"
     ]
    }
   ],
   "source": [
    "%%time\n",
    "throws = e.map(dart_thrower, range(100000))\n",
    "foo = e.gather(throws)"
   ]
  },
  {
   "cell_type": "markdown",
   "metadata": {},
   "source": [
    "### `ipyparallel`"
   ]
  },
  {
   "cell_type": "code",
   "execution_count": 32,
   "metadata": {
    "collapsed": true
   },
   "outputs": [],
   "source": [
    "from ipyparallel import Client"
   ]
  },
  {
   "cell_type": "code",
   "execution_count": 33,
   "metadata": {
    "collapsed": false,
    "scrolled": true
   },
   "outputs": [],
   "source": [
    "c = Client()"
   ]
  },
  {
   "cell_type": "code",
   "execution_count": 34,
   "metadata": {
    "collapsed": false
   },
   "outputs": [],
   "source": [
    "view = c.load_balanced_view()"
   ]
  },
  {
   "cell_type": "code",
   "execution_count": 40,
   "metadata": {
    "collapsed": false
   },
   "outputs": [
    {
     "name": "stdout",
     "output_type": "stream",
     "text": [
      "CPU times: user 29.5 s, sys: 3.81 s, total: 33.3 s\n",
      "Wall time: 53.3 s\n"
     ]
    }
   ],
   "source": [
    "%%time\n",
    "foo = list(view.map(dart_thrower, range(10000)))"
   ]
  }
 ],
 "metadata": {
  "anaconda-cloud": {},
  "kernelspec": {
   "display_name": "Python [conda env:py35]",
   "language": "python",
   "name": "conda-env-py35-py"
  },
  "language_info": {
   "codemirror_mode": {
    "name": "ipython",
    "version": 3
   },
   "file_extension": ".py",
   "mimetype": "text/x-python",
   "name": "python",
   "nbconvert_exporter": "python",
   "pygments_lexer": "ipython3",
   "version": "3.5.2"
  }
 },
 "nbformat": 4,
 "nbformat_minor": 1
}
